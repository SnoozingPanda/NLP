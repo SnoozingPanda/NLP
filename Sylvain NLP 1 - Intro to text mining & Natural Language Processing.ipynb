{
  "nbformat": 4,
  "nbformat_minor": 0,
  "metadata": {
    "colab": {
      "provenance": [],
      "collapsed_sections": [
        "gupBSgO0ib0i"
      ]
    },
    "kernelspec": {
      "name": "python3",
      "display_name": "Python 3"
    },
    "language_info": {
      "name": "python"
    }
  },
  "cells": [
    {
      "cell_type": "code",
      "execution_count": null,
      "metadata": {
        "id": "UxGGGT_ihvUL"
      },
      "outputs": [],
      "source": [
        "import pandas as pd\n",
        "import numpy as np\n",
        "import plotly.express as px"
      ]
    },
    {
      "cell_type": "code",
      "source": [
        "import nltk\n",
        "nltk.download(\"popular\")"
      ],
      "metadata": {
        "colab": {
          "base_uri": "https://localhost:8080/"
        },
        "id": "ruArdhoWh6l-",
        "outputId": "4233c5d4-2588-4e4b-de32-d4583482c636",
        "collapsed": true
      },
      "execution_count": null,
      "outputs": [
        {
          "output_type": "stream",
          "name": "stderr",
          "text": [
            "[nltk_data] Downloading collection 'popular'\n",
            "[nltk_data]    | \n",
            "[nltk_data]    | Downloading package cmudict to /root/nltk_data...\n",
            "[nltk_data]    |   Unzipping corpora/cmudict.zip.\n",
            "[nltk_data]    | Downloading package gazetteers to /root/nltk_data...\n",
            "[nltk_data]    |   Unzipping corpora/gazetteers.zip.\n",
            "[nltk_data]    | Downloading package genesis to /root/nltk_data...\n",
            "[nltk_data]    |   Unzipping corpora/genesis.zip.\n",
            "[nltk_data]    | Downloading package gutenberg to /root/nltk_data...\n",
            "[nltk_data]    |   Unzipping corpora/gutenberg.zip.\n",
            "[nltk_data]    | Downloading package inaugural to /root/nltk_data...\n",
            "[nltk_data]    |   Unzipping corpora/inaugural.zip.\n",
            "[nltk_data]    | Downloading package movie_reviews to\n",
            "[nltk_data]    |     /root/nltk_data...\n",
            "[nltk_data]    |   Unzipping corpora/movie_reviews.zip.\n",
            "[nltk_data]    | Downloading package names to /root/nltk_data...\n",
            "[nltk_data]    |   Unzipping corpora/names.zip.\n",
            "[nltk_data]    | Downloading package shakespeare to /root/nltk_data...\n",
            "[nltk_data]    |   Unzipping corpora/shakespeare.zip.\n",
            "[nltk_data]    | Downloading package stopwords to /root/nltk_data...\n",
            "[nltk_data]    |   Unzipping corpora/stopwords.zip.\n",
            "[nltk_data]    | Downloading package treebank to /root/nltk_data...\n",
            "[nltk_data]    |   Unzipping corpora/treebank.zip.\n",
            "[nltk_data]    | Downloading package twitter_samples to\n",
            "[nltk_data]    |     /root/nltk_data...\n",
            "[nltk_data]    |   Unzipping corpora/twitter_samples.zip.\n",
            "[nltk_data]    | Downloading package omw to /root/nltk_data...\n",
            "[nltk_data]    | Downloading package omw-1.4 to /root/nltk_data...\n",
            "[nltk_data]    | Downloading package wordnet to /root/nltk_data...\n",
            "[nltk_data]    | Downloading package wordnet2021 to /root/nltk_data...\n",
            "[nltk_data]    | Downloading package wordnet31 to /root/nltk_data...\n",
            "[nltk_data]    | Downloading package wordnet_ic to /root/nltk_data...\n",
            "[nltk_data]    |   Unzipping corpora/wordnet_ic.zip.\n",
            "[nltk_data]    | Downloading package words to /root/nltk_data...\n",
            "[nltk_data]    |   Unzipping corpora/words.zip.\n",
            "[nltk_data]    | Downloading package maxent_ne_chunker to\n",
            "[nltk_data]    |     /root/nltk_data...\n",
            "[nltk_data]    |   Unzipping chunkers/maxent_ne_chunker.zip.\n",
            "[nltk_data]    | Downloading package punkt to /root/nltk_data...\n",
            "[nltk_data]    |   Unzipping tokenizers/punkt.zip.\n",
            "[nltk_data]    | Downloading package snowball_data to\n",
            "[nltk_data]    |     /root/nltk_data...\n",
            "[nltk_data]    | Downloading package averaged_perceptron_tagger to\n",
            "[nltk_data]    |     /root/nltk_data...\n",
            "[nltk_data]    |   Unzipping taggers/averaged_perceptron_tagger.zip.\n",
            "[nltk_data]    | \n",
            "[nltk_data]  Done downloading collection popular\n"
          ]
        },
        {
          "output_type": "execute_result",
          "data": {
            "text/plain": [
              "True"
            ]
          },
          "metadata": {},
          "execution_count": 2
        }
      ]
    },
    {
      "cell_type": "markdown",
      "source": [
        "# Cours text mining & Natural Language Processing"
      ],
      "metadata": {
        "id": "gupBSgO0ib0i"
      }
    },
    {
      "cell_type": "code",
      "source": [
        "nltk.FreqDist(\"example\")"
      ],
      "metadata": {
        "colab": {
          "base_uri": "https://localhost:8080/"
        },
        "id": "5YPpEpzAh6ii",
        "outputId": "ed0d6bd0-e297-4dd0-a108-39ca1e37bd32"
      },
      "execution_count": null,
      "outputs": [
        {
          "output_type": "execute_result",
          "data": {
            "text/plain": [
              "FreqDist({'e': 2, 'x': 1, 'a': 1, 'm': 1, 'p': 1, 'l': 1})"
            ]
          },
          "metadata": {},
          "execution_count": 3
        }
      ]
    },
    {
      "cell_type": "code",
      "source": [
        "sentence = 'This is a very very very good example sentence'\n",
        "nltk.FreqDist(sentence.split(\" \"))"
      ],
      "metadata": {
        "colab": {
          "base_uri": "https://localhost:8080/"
        },
        "id": "WCUSeqNkh6f-",
        "outputId": "726ea900-b71b-4c67-c04f-ba49a99daf3f"
      },
      "execution_count": null,
      "outputs": [
        {
          "output_type": "execute_result",
          "data": {
            "text/plain": [
              "FreqDist({'very': 3, 'This': 1, 'is': 1, 'a': 1, 'good': 1, 'example': 1, 'sentence': 1})"
            ]
          },
          "metadata": {},
          "execution_count": 4
        }
      ]
    },
    {
      "cell_type": "markdown",
      "source": [
        "Exemples de tokenizing"
      ],
      "metadata": {
        "id": "vS8wPX-5i2CN"
      }
    },
    {
      "cell_type": "code",
      "source": [
        "# une phrase en mots\n",
        "sentence = \"This is a very very very good example sentence.\"\n",
        "nltk.word_tokenize(sentence)"
      ],
      "metadata": {
        "colab": {
          "base_uri": "https://localhost:8080/"
        },
        "id": "pgFKaiIxh6dW",
        "outputId": "d976682b-006e-4e86-e7d1-02aedfaa6d9b"
      },
      "execution_count": null,
      "outputs": [
        {
          "output_type": "execute_result",
          "data": {
            "text/plain": [
              "['This', 'is', 'a', 'very', 'very', 'very', 'good', 'example', 'sentence', '.']"
            ]
          },
          "metadata": {},
          "execution_count": 5
        }
      ]
    },
    {
      "cell_type": "code",
      "source": [
        "# un texte en phrases\n",
        "sentence = \"This is a very very very good example sentence. This is a good example too, isn't it?\"\n",
        "nltk.sent_tokenize(sentence)"
      ],
      "metadata": {
        "colab": {
          "base_uri": "https://localhost:8080/"
        },
        "id": "LcA6ORe6h6ae",
        "outputId": "55c2a371-b663-491d-fe9f-88ff764087ef"
      },
      "execution_count": null,
      "outputs": [
        {
          "output_type": "execute_result",
          "data": {
            "text/plain": [
              "['This is a very very very good example sentence.',\n",
              " \"This is a good example too, isn't it?\"]"
            ]
          },
          "metadata": {},
          "execution_count": 6
        }
      ]
    },
    {
      "cell_type": "markdown",
      "source": [
        "Suppression des stop-words"
      ],
      "metadata": {
        "id": "l2BCU1QJizID"
      }
    },
    {
      "cell_type": "code",
      "source": [
        "nltk.corpus.stopwords.words(\"english\")"
      ],
      "metadata": {
        "colab": {
          "base_uri": "https://localhost:8080/"
        },
        "collapsed": true,
        "id": "7S0YHbjph6X0",
        "outputId": "59613b66-a3b7-4c9f-f683-a452d0ac9ae7"
      },
      "execution_count": null,
      "outputs": [
        {
          "output_type": "execute_result",
          "data": {
            "text/plain": [
              "['i',\n",
              " 'me',\n",
              " 'my',\n",
              " 'myself',\n",
              " 'we',\n",
              " 'our',\n",
              " 'ours',\n",
              " 'ourselves',\n",
              " 'you',\n",
              " \"you're\",\n",
              " \"you've\",\n",
              " \"you'll\",\n",
              " \"you'd\",\n",
              " 'your',\n",
              " 'yours',\n",
              " 'yourself',\n",
              " 'yourselves',\n",
              " 'he',\n",
              " 'him',\n",
              " 'his',\n",
              " 'himself',\n",
              " 'she',\n",
              " \"she's\",\n",
              " 'her',\n",
              " 'hers',\n",
              " 'herself',\n",
              " 'it',\n",
              " \"it's\",\n",
              " 'its',\n",
              " 'itself',\n",
              " 'they',\n",
              " 'them',\n",
              " 'their',\n",
              " 'theirs',\n",
              " 'themselves',\n",
              " 'what',\n",
              " 'which',\n",
              " 'who',\n",
              " 'whom',\n",
              " 'this',\n",
              " 'that',\n",
              " \"that'll\",\n",
              " 'these',\n",
              " 'those',\n",
              " 'am',\n",
              " 'is',\n",
              " 'are',\n",
              " 'was',\n",
              " 'were',\n",
              " 'be',\n",
              " 'been',\n",
              " 'being',\n",
              " 'have',\n",
              " 'has',\n",
              " 'had',\n",
              " 'having',\n",
              " 'do',\n",
              " 'does',\n",
              " 'did',\n",
              " 'doing',\n",
              " 'a',\n",
              " 'an',\n",
              " 'the',\n",
              " 'and',\n",
              " 'but',\n",
              " 'if',\n",
              " 'or',\n",
              " 'because',\n",
              " 'as',\n",
              " 'until',\n",
              " 'while',\n",
              " 'of',\n",
              " 'at',\n",
              " 'by',\n",
              " 'for',\n",
              " 'with',\n",
              " 'about',\n",
              " 'against',\n",
              " 'between',\n",
              " 'into',\n",
              " 'through',\n",
              " 'during',\n",
              " 'before',\n",
              " 'after',\n",
              " 'above',\n",
              " 'below',\n",
              " 'to',\n",
              " 'from',\n",
              " 'up',\n",
              " 'down',\n",
              " 'in',\n",
              " 'out',\n",
              " 'on',\n",
              " 'off',\n",
              " 'over',\n",
              " 'under',\n",
              " 'again',\n",
              " 'further',\n",
              " 'then',\n",
              " 'once',\n",
              " 'here',\n",
              " 'there',\n",
              " 'when',\n",
              " 'where',\n",
              " 'why',\n",
              " 'how',\n",
              " 'all',\n",
              " 'any',\n",
              " 'both',\n",
              " 'each',\n",
              " 'few',\n",
              " 'more',\n",
              " 'most',\n",
              " 'other',\n",
              " 'some',\n",
              " 'such',\n",
              " 'no',\n",
              " 'nor',\n",
              " 'not',\n",
              " 'only',\n",
              " 'own',\n",
              " 'same',\n",
              " 'so',\n",
              " 'than',\n",
              " 'too',\n",
              " 'very',\n",
              " 's',\n",
              " 't',\n",
              " 'can',\n",
              " 'will',\n",
              " 'just',\n",
              " 'don',\n",
              " \"don't\",\n",
              " 'should',\n",
              " \"should've\",\n",
              " 'now',\n",
              " 'd',\n",
              " 'll',\n",
              " 'm',\n",
              " 'o',\n",
              " 're',\n",
              " 've',\n",
              " 'y',\n",
              " 'ain',\n",
              " 'aren',\n",
              " \"aren't\",\n",
              " 'couldn',\n",
              " \"couldn't\",\n",
              " 'didn',\n",
              " \"didn't\",\n",
              " 'doesn',\n",
              " \"doesn't\",\n",
              " 'hadn',\n",
              " \"hadn't\",\n",
              " 'hasn',\n",
              " \"hasn't\",\n",
              " 'haven',\n",
              " \"haven't\",\n",
              " 'isn',\n",
              " \"isn't\",\n",
              " 'ma',\n",
              " 'mightn',\n",
              " \"mightn't\",\n",
              " 'mustn',\n",
              " \"mustn't\",\n",
              " 'needn',\n",
              " \"needn't\",\n",
              " 'shan',\n",
              " \"shan't\",\n",
              " 'shouldn',\n",
              " \"shouldn't\",\n",
              " 'wasn',\n",
              " \"wasn't\",\n",
              " 'weren',\n",
              " \"weren't\",\n",
              " 'won',\n",
              " \"won't\",\n",
              " 'wouldn',\n",
              " \"wouldn't\"]"
            ]
          },
          "metadata": {},
          "execution_count": 7
        }
      ]
    },
    {
      "cell_type": "code",
      "source": [
        "sentence = \"This is a very very very good example sentence.\"\n",
        "tokens = nltk.word_tokenize(sentence)\n",
        "\n",
        "tokens_clean = []\n",
        "for words in tokens:\n",
        "  if words not in nltk.corpus.stopwords.words(\"english\"):\n",
        "    tokens_clean.append(words)\n",
        "\n",
        "tokens_clean"
      ],
      "metadata": {
        "colab": {
          "base_uri": "https://localhost:8080/"
        },
        "id": "P0Ar72_th6Ph",
        "outputId": "8910b779-048a-4f01-998c-115e3cc265ca"
      },
      "execution_count": null,
      "outputs": [
        {
          "output_type": "execute_result",
          "data": {
            "text/plain": [
              "['This', 'good', 'example', 'sentence', '.']"
            ]
          },
          "metadata": {},
          "execution_count": 8
        }
      ]
    },
    {
      "cell_type": "code",
      "source": [
        "# ici on fait passer la phrase en lower case car nltk est sensible à la casse\n",
        "\n",
        "sentence = \"This is a very very very good example sentence.\"\n",
        "tokens = nltk.word_tokenize(sentence.lower())\n",
        "\n",
        "tokens_clean = []\n",
        "for words in tokens:\n",
        "  if words not in nltk.corpus.stopwords.words(\"english\"):\n",
        "    tokens_clean.append(words)\n",
        "\n",
        "tokens_clean"
      ],
      "metadata": {
        "id": "U-l5z6CSjOir",
        "outputId": "36a16805-378f-418b-d84e-8ca3ab8e6b8d",
        "colab": {
          "base_uri": "https://localhost:8080/"
        }
      },
      "execution_count": null,
      "outputs": [
        {
          "output_type": "execute_result",
          "data": {
            "text/plain": [
              "['good', 'example', 'sentence', '.']"
            ]
          },
          "metadata": {},
          "execution_count": 9
        }
      ]
    },
    {
      "cell_type": "markdown",
      "source": [
        "# Challenge NLP 1"
      ],
      "metadata": {
        "id": "LrC3NV2pjcx9"
      }
    },
    {
      "cell_type": "markdown",
      "source": [
        "Avant de te lancer dans le text mining des lacets sans nœuds, fais tes armes sur les basiques de la discipline en réalisant quelques statistiques à partir d'un texte de ton choix.\n",
        "\n",
        "1. Importe NLTK et télécharge les fonctions dont tu auras besoin (au fur et à mesure si nécessaire).\n",
        "2. Récupère le texte d'un article de presse de ton choix sur internet (en anglais ce sera plus simple, mais tu peux prendre la langue de ton choix).Affecte-le à une variable via un copier/coller dans ton notebook. Par simplicité pour la suite de cette quête, nous te conseillons de prendre un texte qui fait entre 10 et 30 lignes environ.\n",
        "3. Transforme ton texte en tokens de phrases\n",
        "4. Transforme ton texte en tokens de mots\n",
        "5. Compte la fréquence d'apparition de chaque mot et réalise un graphique (si possible un diagramme en barre) qui représente les 20 mots les plus présents dans ton texte. Y a-t-il beaucoup de mots qui te semblent être des stopwords ?\n",
        "6. Enlève les stop words et la ponctuation, et regarde à nouveau quels sont les mots les plus présents. Là encore, réalise le même graphique pour comparer."
      ],
      "metadata": {
        "id": "iwoGliwEjlaw"
      }
    },
    {
      "cell_type": "markdown",
      "source": [
        "Récupère le texte d'un article de presse de ton choix sur internet (en anglais ce sera plus simple, mais tu peux prendre la langue de ton choix).Affecte-le à une variable via un copier/coller dans ton notebook. Par simplicité pour la suite de cette quête, nous te conseillons de prendre un texte qui fait entre 10 et 30 lignes environ."
      ],
      "metadata": {
        "id": "RF1jaL53oNdr"
      }
    },
    {
      "cell_type": "code",
      "source": [
        "texte = \"On Friday May 19th, the «  Da vinci code » will be viewed  during the Cannes festival's premiere. The long-waited movie based on the book by Dan Brown is expected to be a block-buster  likely  to equal the 1998's Titanic. The book was a real success with 40 millions copies sold despite the critics  made by the Vatican. The movie will be performed by Tom Hanks, Jean Reno  and Audrey Tautou. The movie-director is Ron Howard, who was first famous for his performance in the famous 'Happy days' in the seventies. The plot of the movie resumes the main idea of the book: the world plot  that aims at hiding the alleged affair between Jesus and Magdalene. Magdalene is said to have a daughter called Sarah with whom she fled to South France where she found refuge. In the following years, Sarah would marry a French king belonging to the Merovingian tribe. Thus, the blood of Jesus is said to have been transmitted through centuries and Millenaries. The San Graal  containing his blood is likely to have been kept and hidden  in the French church 'Saint Sulpice'. The secret is in the hand of a secret group 'the Prieuré de Sion' , that was born in the Middle-Ages. It was created at the time by the Templars , a group of armed monks that protected the faithful on their pilgrimage to the Holy Jerusalem. The secret is now in the hand of the 'Opus Dei' that does everything to keep it secret. The movie itself focuses on the investigation made by the policemen who are working on a series of murders in the Louvre. The Vatican has strongly reacted against the book since the Opus Dei  is a real organization which is the warrant of the Catholic Canon. The 2nd bone of contention is the affair between Jesus and Magdalene. Dan Brown has indeed done everything he could to make  his story  as realistic as possible. Even though  the book is a fiction , the frontier between fiction and reality seems hard to define.\""
      ],
      "metadata": {
        "id": "X5YO9FnZmbZ9"
      },
      "execution_count": null,
      "outputs": []
    },
    {
      "cell_type": "markdown",
      "source": [
        "Transforme ton texte en tokens de phrases"
      ],
      "metadata": {
        "id": "bUj6U91FoUDB"
      }
    },
    {
      "cell_type": "code",
      "source": [
        "# Conversion du texte en minuscule\n",
        "texte_minuscule = texte.lower()\n",
        "\n",
        "# Tokenisation en phrases\n",
        "phrases = nltk.sent_tokenize(texte_minuscule)"
      ],
      "metadata": {
        "id": "zLgaRkX_kCgz"
      },
      "execution_count": null,
      "outputs": []
    },
    {
      "cell_type": "markdown",
      "source": [
        "Transforme ton texte en tokens de mots"
      ],
      "metadata": {
        "id": "u8Ty77bioV2d"
      }
    },
    {
      "cell_type": "code",
      "source": [
        "# Tokenisation en mots\n",
        "mots = nltk.word_tokenize(texte_minuscule)"
      ],
      "metadata": {
        "id": "ptBfWiBq5EJg"
      },
      "execution_count": null,
      "outputs": []
    },
    {
      "cell_type": "markdown",
      "source": [
        "Compte la fréquence d'apparition de chaque mot et réalise un graphique (si possible un diagramme en barre) qui représente les 20 mots les plus présents dans ton texte. Y a-t-il beaucoup de mots qui te semblent être des stopwords ?"
      ],
      "metadata": {
        "id": "JfxIUVQJo44B"
      }
    },
    {
      "cell_type": "code",
      "source": [
        "# Création d'une distribution de fréquence des mots\n",
        "groupe = nltk.FreqDist(mots)\n",
        "\n",
        "def les_plus_frequents(groupe):\n",
        "  \"\"\"\n",
        "  Identifie les 20 mots les plus fréquents dans une distribution de fréquence.\n",
        "\n",
        "  Args:\n",
        "    groupe: Une instance de nltk.FreqDist.\n",
        "\n",
        "  Returns:\n",
        "    Une liste de tuples (fréquence, mot) triée par fréquence décroissante.\n",
        "  \"\"\"\n",
        "  t = []\n",
        "  for key, value in groupe.items():\n",
        "    t.append((value, key))\n",
        "\n",
        "  t.sort(reverse=True)\n",
        "  return t[:20]\n",
        "\n",
        "# Extraction des 20 mots les plus fréquents\n",
        "t = les_plus_frequents(groupe)"
      ],
      "metadata": {
        "id": "_wn6ERXS1xri"
      },
      "execution_count": null,
      "outputs": []
    },
    {
      "cell_type": "code",
      "source": [
        "import matplotlib.pyplot as plt\n",
        "\n",
        "# Extraction des mots et des fréquences\n",
        "mots, frequences = zip(*t)\n",
        "\n",
        "# Création du diagramme en barres\n",
        "plt.bar(frequences, mots)\n",
        "plt.xlabel(\"Mots\")\n",
        "plt.ylabel(\"Fréquence\")\n",
        "plt.title(\"Diagramme en barres des 20 mots les plus fréquents\")\n",
        "plt.xticks(rotation=45, ha=\"right\")\n",
        "plt.tight_layout()\n",
        "plt.show()"
      ],
      "metadata": {
        "colab": {
          "base_uri": "https://localhost:8080/",
          "height": 487
        },
        "id": "Atxe2zic4kAr",
        "outputId": "9f16ba0b-13c8-40a4-bf20-efc8e7bbc51c"
      },
      "execution_count": null,
      "outputs": [
        {
          "output_type": "display_data",
          "data": {
            "text/plain": [
              "<Figure size 640x480 with 1 Axes>"
            ],
            "image/png": "[encoded data removed]"
          },
          "metadata": {}
        }
      ]
    },
    {
      "cell_type": "markdown",
      "source": [
        "Enlève les stop words et la ponctuation, et regarde à nouveau quels sont les mots les plus présents. Là encore, réalise le même graphique pour comparer."
      ],
      "metadata": {
        "id": "s3uS9X2Ew6Xs"
      }
    },
    {
      "cell_type": "code",
      "source": [
        "tokens = nltk.word_tokenize(texte.lower())"
      ],
      "metadata": {
        "id": "n8WFxcMcw567"
      },
      "execution_count": null,
      "outputs": []
    },
    {
      "cell_type": "code",
      "source": [
        "tokens_clean = []\n",
        "for words in tokens:\n",
        "  if words not in nltk.corpus.stopwords.words(\"english\"):\n",
        "    tokens_clean.append(words)\n",
        "\n",
        "tokens_clean"
      ],
      "metadata": {
        "colab": {
          "base_uri": "https://localhost:8080/"
        },
        "collapsed": true,
        "id": "_lj-z-tbkCQ2",
        "outputId": "9f58d49d-d60c-48c0-a779-db00ad3c594a"
      },
      "execution_count": null,
      "outputs": [
        {
          "output_type": "execute_result",
          "data": {
            "text/plain": [
              "['friday',\n",
              " 'may',\n",
              " '19th',\n",
              " ',',\n",
              " '«',\n",
              " 'da',\n",
              " 'vinci',\n",
              " 'code',\n",
              " '»',\n",
              " 'viewed',\n",
              " 'cannes',\n",
              " 'festival',\n",
              " \"'s\",\n",
              " 'premiere',\n",
              " '.',\n",
              " 'long-waited',\n",
              " 'movie',\n",
              " 'based',\n",
              " 'book',\n",
              " 'dan',\n",
              " 'brown',\n",
              " 'expected',\n",
              " 'block-buster',\n",
              " 'likely',\n",
              " 'equal',\n",
              " '1998',\n",
              " \"'s\",\n",
              " 'titanic',\n",
              " '.',\n",
              " 'book',\n",
              " 'real',\n",
              " 'success',\n",
              " '40',\n",
              " 'millions',\n",
              " 'copies',\n",
              " 'sold',\n",
              " 'despite',\n",
              " 'critics',\n",
              " 'made',\n",
              " 'vatican',\n",
              " '.',\n",
              " 'movie',\n",
              " 'performed',\n",
              " 'tom',\n",
              " 'hanks',\n",
              " ',',\n",
              " 'jean',\n",
              " 'reno',\n",
              " 'audrey',\n",
              " 'tautou',\n",
              " '.',\n",
              " 'movie-director',\n",
              " 'ron',\n",
              " 'howard',\n",
              " ',',\n",
              " 'first',\n",
              " 'famous',\n",
              " 'performance',\n",
              " 'famous',\n",
              " \"'happy\",\n",
              " 'days',\n",
              " \"'\",\n",
              " 'seventies',\n",
              " '.',\n",
              " 'plot',\n",
              " 'movie',\n",
              " 'resumes',\n",
              " 'main',\n",
              " 'idea',\n",
              " 'book',\n",
              " ':',\n",
              " 'world',\n",
              " 'plot',\n",
              " 'aims',\n",
              " 'hiding',\n",
              " 'alleged',\n",
              " 'affair',\n",
              " 'jesus',\n",
              " 'magdalene',\n",
              " '.',\n",
              " 'magdalene',\n",
              " 'said',\n",
              " 'daughter',\n",
              " 'called',\n",
              " 'sarah',\n",
              " 'fled',\n",
              " 'south',\n",
              " 'france',\n",
              " 'found',\n",
              " 'refuge',\n",
              " '.',\n",
              " 'following',\n",
              " 'years',\n",
              " ',',\n",
              " 'sarah',\n",
              " 'would',\n",
              " 'marry',\n",
              " 'french',\n",
              " 'king',\n",
              " 'belonging',\n",
              " 'merovingian',\n",
              " 'tribe',\n",
              " '.',\n",
              " 'thus',\n",
              " ',',\n",
              " 'blood',\n",
              " 'jesus',\n",
              " 'said',\n",
              " 'transmitted',\n",
              " 'centuries',\n",
              " 'millenaries',\n",
              " '.',\n",
              " 'san',\n",
              " 'graal',\n",
              " 'containing',\n",
              " 'blood',\n",
              " 'likely',\n",
              " 'kept',\n",
              " 'hidden',\n",
              " 'french',\n",
              " 'church',\n",
              " \"'saint\",\n",
              " 'sulpice',\n",
              " \"'\",\n",
              " '.',\n",
              " 'secret',\n",
              " 'hand',\n",
              " 'secret',\n",
              " 'group',\n",
              " \"'the\",\n",
              " 'prieuré',\n",
              " 'de',\n",
              " 'sion',\n",
              " \"'\",\n",
              " ',',\n",
              " 'born',\n",
              " 'middle-ages',\n",
              " '.',\n",
              " 'created',\n",
              " 'time',\n",
              " 'templars',\n",
              " ',',\n",
              " 'group',\n",
              " 'armed',\n",
              " 'monks',\n",
              " 'protected',\n",
              " 'faithful',\n",
              " 'pilgrimage',\n",
              " 'holy',\n",
              " 'jerusalem',\n",
              " '.',\n",
              " 'secret',\n",
              " 'hand',\n",
              " \"'opus\",\n",
              " 'dei',\n",
              " \"'\",\n",
              " 'everything',\n",
              " 'keep',\n",
              " 'secret',\n",
              " '.',\n",
              " 'movie',\n",
              " 'focuses',\n",
              " 'investigation',\n",
              " 'made',\n",
              " 'policemen',\n",
              " 'working',\n",
              " 'series',\n",
              " 'murders',\n",
              " 'louvre',\n",
              " '.',\n",
              " 'vatican',\n",
              " 'strongly',\n",
              " 'reacted',\n",
              " 'book',\n",
              " 'since',\n",
              " 'opus',\n",
              " 'dei',\n",
              " 'real',\n",
              " 'organization',\n",
              " 'warrant',\n",
              " 'catholic',\n",
              " 'canon',\n",
              " '.',\n",
              " '2nd',\n",
              " 'bone',\n",
              " 'contention',\n",
              " 'affair',\n",
              " 'jesus',\n",
              " 'magdalene',\n",
              " '.',\n",
              " 'dan',\n",
              " 'brown',\n",
              " 'indeed',\n",
              " 'done',\n",
              " 'everything',\n",
              " 'could',\n",
              " 'make',\n",
              " 'story',\n",
              " 'realistic',\n",
              " 'possible',\n",
              " '.',\n",
              " 'even',\n",
              " 'though',\n",
              " 'book',\n",
              " 'fiction',\n",
              " ',',\n",
              " 'frontier',\n",
              " 'fiction',\n",
              " 'reality',\n",
              " 'seems',\n",
              " 'hard',\n",
              " 'define',\n",
              " '.']"
            ]
          },
          "metadata": {},
          "execution_count": 9
        }
      ]
    },
    {
      "cell_type": "code",
      "source": [
        "# Remove punctuation\n",
        "texte_sans = []\n",
        "ponctuation = \".,;!?:'\"\n",
        "special = \"'s\"\n",
        "guillemets = \"«»\"\n",
        "for i in tokens_clean:\n",
        "  if (i in ponctuation) or (i in special) or (i in guillemets):\n",
        "  # Le caractère est présent dans la ponctuation\n",
        "    pass\n",
        "  else:\n",
        "  # Le caractère n'est pas présent dans la ponctuation\n",
        "    texte_sans.append(i)\n",
        "\n",
        "print(texte_sans)"
      ],
      "metadata": {
        "id": "EypNuU13kCJB",
        "colab": {
          "base_uri": "https://localhost:8080/"
        },
        "outputId": "3b9fd46d-87db-4722-c56d-32d89cf960b7"
      },
      "execution_count": null,
      "outputs": [
        {
          "output_type": "stream",
          "name": "stdout",
          "text": [
            "['friday', 'may', '19th', 'da', 'vinci', 'code', 'viewed', 'cannes', 'festival', 'premiere', 'long-waited', 'movie', 'based', 'book', 'dan', 'brown', 'expected', 'block-buster', 'likely', 'equal', '1998', 'titanic', 'book', 'real', 'success', '40', 'millions', 'copies', 'sold', 'despite', 'critics', 'made', 'vatican', 'movie', 'performed', 'tom', 'hanks', 'jean', 'reno', 'audrey', 'tautou', 'movie-director', 'ron', 'howard', 'first', 'famous', 'performance', 'famous', \"'happy\", 'days', 'seventies', 'plot', 'movie', 'resumes', 'main', 'idea', 'book', 'world', 'plot', 'aims', 'hiding', 'alleged', 'affair', 'jesus', 'magdalene', 'magdalene', 'said', 'daughter', 'called', 'sarah', 'fled', 'south', 'france', 'found', 'refuge', 'following', 'years', 'sarah', 'would', 'marry', 'french', 'king', 'belonging', 'merovingian', 'tribe', 'thus', 'blood', 'jesus', 'said', 'transmitted', 'centuries', 'millenaries', 'san', 'graal', 'containing', 'blood', 'likely', 'kept', 'hidden', 'french', 'church', \"'saint\", 'sulpice', 'secret', 'hand', 'secret', 'group', \"'the\", 'prieuré', 'de', 'sion', 'born', 'middle-ages', 'created', 'time', 'templars', 'group', 'armed', 'monks', 'protected', 'faithful', 'pilgrimage', 'holy', 'jerusalem', 'secret', 'hand', \"'opus\", 'dei', 'everything', 'keep', 'secret', 'movie', 'focuses', 'investigation', 'made', 'policemen', 'working', 'series', 'murders', 'louvre', 'vatican', 'strongly', 'reacted', 'book', 'since', 'opus', 'dei', 'real', 'organization', 'warrant', 'catholic', 'canon', '2nd', 'bone', 'contention', 'affair', 'jesus', 'magdalene', 'dan', 'brown', 'indeed', 'done', 'everything', 'could', 'make', 'story', 'realistic', 'possible', 'even', 'though', 'book', 'fiction', 'frontier', 'fiction', 'reality', 'seems', 'hard', 'define']\n"
          ]
        }
      ]
    },
    {
      "cell_type": "code",
      "source": [
        "new_texte = \" \".join(texte_sans)\n",
        "print(new_texte)"
      ],
      "metadata": {
        "colab": {
          "base_uri": "https://localhost:8080/"
        },
        "id": "dFmD4Au96AE8",
        "outputId": "0358e0da-aefe-419c-e494-4bbefa74393f"
      },
      "execution_count": null,
      "outputs": [
        {
          "output_type": "stream",
          "name": "stdout",
          "text": [
            "friday may 19th da vinci code viewed cannes festival premiere long-waited movie based book dan brown expected block-buster likely equal 1998 titanic book real success 40 millions copies sold despite critics made vatican movie performed tom hanks jean reno audrey tautou movie-director ron howard first famous performance famous 'happy days seventies plot movie resumes main idea book world plot aims hiding alleged affair jesus magdalene magdalene said daughter called sarah fled south france found refuge following years sarah would marry french king belonging merovingian tribe thus blood jesus said transmitted centuries millenaries san graal containing blood likely kept hidden french church 'saint sulpice secret hand secret group 'the prieuré de sion born middle-ages created time templars group armed monks protected faithful pilgrimage holy jerusalem secret hand 'opus dei everything keep secret movie focuses investigation made policemen working series murders louvre vatican strongly reacted book since opus dei real organization warrant catholic canon 2nd bone contention affair jesus magdalene dan brown indeed done everything could make story realistic possible even though book fiction frontier fiction reality seems hard define\n"
          ]
        }
      ]
    },
    {
      "cell_type": "code",
      "source": [
        "# Tokenisation en mots\n",
        "words = nltk.word_tokenize(new_texte)"
      ],
      "metadata": {
        "id": "JFHKfp7b7c7Q"
      },
      "execution_count": null,
      "outputs": []
    },
    {
      "cell_type": "code",
      "source": [
        "texte_freq = nltk.FreqDist(words)\n",
        "display(texte_freq)"
      ],
      "metadata": {
        "colab": {
          "base_uri": "https://localhost:8080/",
          "height": 34
        },
        "id": "IynP0tQL7E4d",
        "outputId": "c3f8e154-217b-48d0-8008-de24114a942a"
      },
      "execution_count": null,
      "outputs": [
        {
          "output_type": "display_data",
          "data": {
            "text/plain": [
              "FreqDist({'book': 5, 'movie': 4, 'secret': 4, 'jesus': 3, 'magdalene': 3, 'dan': 2, 'brown': 2, 'likely': 2, 'real': 2, 'made': 2, ...})"
            ]
          },
          "metadata": {}
        }
      ]
    },
    {
      "cell_type": "code",
      "source": [
        "# Création d'une distribution de fréquence des mots\n",
        "def les_plus_frequents(words):\n",
        "  \"\"\"\n",
        "  Identifie les 20 mots les plus fréquents dans une distribution de fréquence.\n",
        "\n",
        "  Args:\n",
        "    groupe: Une instance de nltk.FreqDist.\n",
        "\n",
        "  Returns:\n",
        "    Une liste de tuples (fréquence, mot) triée par fréquence décroissante.\n",
        "  \"\"\"\n",
        "  t2 = []\n",
        "  for key, value in texte_freq.items():\n",
        "    t2.append((value, key))\n",
        "\n",
        "  t2.sort(reverse=True)\n",
        "  return t2[:20]\n",
        "\n",
        "# Extraction des 20 mots les plus fréquents\n",
        "t3 = les_plus_frequents(new_texte)"
      ],
      "metadata": {
        "id": "UgtYtAkS6Z0J"
      },
      "execution_count": null,
      "outputs": []
    },
    {
      "cell_type": "code",
      "source": [
        "print(t3)"
      ],
      "metadata": {
        "colab": {
          "base_uri": "https://localhost:8080/"
        },
        "id": "V_rKINTg6d5v",
        "outputId": "1789f41c-ef10-4fb3-a6c5-adbbdca93296"
      },
      "execution_count": null,
      "outputs": [
        {
          "output_type": "stream",
          "name": "stdout",
          "text": [
            "[(5, 'book'), (4, 'secret'), (4, 'movie'), (3, 'magdalene'), (3, 'jesus'), (2, 'vatican'), (2, 'sarah'), (2, 'said'), (2, 'real'), (2, 'plot'), (2, 'made'), (2, 'likely'), (2, 'hand'), (2, 'group'), (2, 'french'), (2, 'fiction'), (2, 'famous'), (2, 'everything'), (2, 'dei'), (2, 'dan')]\n"
          ]
        }
      ]
    },
    {
      "cell_type": "code",
      "source": [
        "# Extraction des mots et des fréquences\n",
        "mots, frequences = zip(*t3)\n",
        "\n",
        "# Création du diagramme en barres\n",
        "plt.figure(figsize=(20, 6))\n",
        "plt.bar(frequences, mots)\n",
        "plt.xlabel(\"Mots\")\n",
        "plt.ylabel(\"Fréquence\")\n",
        "plt.title(\"Diagramme en barres des 20 mots les plus fréquents\")\n",
        "plt.xticks(rotation=45, ha=\"right\")\n",
        "plt.tight_layout()\n",
        "plt.show()"
      ],
      "metadata": {
        "colab": {
          "base_uri": "https://localhost:8080/",
          "height": 436
        },
        "id": "95I2lsjQybVr",
        "outputId": "e41e0480-6d47-461e-b2b1-c0d418a4610c"
      },
      "execution_count": null,
      "outputs": [
        {
          "output_type": "display_data",
          "data": {
            "text/plain": [
              "<Figure size 2000x600 with 1 Axes>"
            ],
            "image/png": "[encoded data removed]"
          },
          "metadata": {}
        }
      ]
    },
    {
      "cell_type": "markdown",
      "source": [
        "Visiblement il reste des signes de ponctuation"
      ],
      "metadata": {
        "id": "0vXlzHkt7Z78"
      }
    }
  ]
}